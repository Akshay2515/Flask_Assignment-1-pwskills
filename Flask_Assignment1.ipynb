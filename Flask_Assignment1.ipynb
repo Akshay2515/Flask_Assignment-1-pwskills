{
 "cells": [
  {
   "cell_type": "markdown",
   "id": "784cd011-de8c-4996-8f6f-5017ac1b4faa",
   "metadata": {},
   "source": [
    "# FLASK ASSIGNMENT-1"
   ]
  },
  {
   "cell_type": "markdown",
   "id": "44fb14dd-c60b-4a47-b179-e01429523709",
   "metadata": {},
   "source": [
    "## Q1. What is Flask Framework? What are the advantages of Flask Framework?\n",
    "## SOLUTION:"
   ]
  },
  {
   "cell_type": "markdown",
   "id": "17afb50b-66dd-4812-bc74-703f2cde285a",
   "metadata": {},
   "source": [
    "## Flask is considered as micro web framework is written in python programming. The word \"micro\" means focusing to keep the core extensible but straight forward. it is not dependent upon external library to perform the tasks of framework. flask framework is more independent,flexible, and simple."
   ]
  },
  {
   "cell_type": "markdown",
   "id": "0a32836b-e5cc-4c05-bf89-5ccf1f7283ba",
   "metadata": {},
   "source": [
    "## ADVANTAGES:"
   ]
  },
  {
   "cell_type": "markdown",
   "id": "f63d7c96-c093-44ee-b1fd-6fbde580e8ca",
   "metadata": {},
   "source": [
    "## 1. Flask is compatible with the latest technologies such as machine learning ,agile development, cloud technologies etc.\n",
    "## 2. Flask is lightweight framework because its independent of external libraries and it give a quick start of web development having complex application.\n",
    "## 3. Flask supports WsGI templates that help in flexibility and scalibility in the web development process."
   ]
  },
  {
   "cell_type": "markdown",
   "id": "6cb23a94-a29c-479b-9ecd-2ce24df40d99",
   "metadata": {},
   "source": [
    "## Q2. Create a simple flask application to display \"Hello world!!\". Attach the screenshot of the output in jupyter notebook?\n",
    "## Solution:"
   ]
  },
  {
   "cell_type": "code",
   "execution_count": null,
   "id": "c8977134-c4b4-47ef-ae32-5e32729ea8a4",
   "metadata": {},
   "outputs": [],
   "source": [
    "from flask import Flask\n",
    "\n",
    "app = Flask(_name_)\n",
    "\n",
    "@app.route(\"/\")\n",
    "def welcome():\n",
    "    return \"Hello world!, My name is akshay and I am a DATA SCIENTIST\"     \n",
    "       \n",
    "if _name==\"__main_\":\n",
    "    app.run(host=\"0.0.0.0\")"
   ]
  },
  {
   "cell_type": "markdown",
   "id": "4033a168-6ef8-4975-acab-d3fd1071b901",
   "metadata": {},
   "source": [
    "![](hello.jpg)"
   ]
  },
  {
   "cell_type": "markdown",
   "id": "53835091-dae6-488a-b1a7-2924aa4cb184",
   "metadata": {},
   "source": [
    "## Q3. What is App routing in Flask? Why do we use app routes?\n",
    "## SOLUTION:"
   ]
  },
  {
   "cell_type": "markdown",
   "id": "422cc66e-32b2-49a5-9c9d-bd32e175fcea",
   "metadata": {},
   "source": [
    "## App routing is the technique used to map the specific URL with the associated function intended to perform some task. The Latest Web frameworks use the routing technique to help users remember application URLs. It is helpful to access the desired page directly without navigating from the home page."
   ]
  },
  {
   "cell_type": "markdown",
   "id": "c93f9c6e-7c23-4ea0-956e-aca40cb1ce0d",
   "metadata": {},
   "source": [
    "## Q4.  Create a “/welcome” route to display the welcome message “Welcome to ABC Corporation” and a “/” route to show the following details:\n",
    "\n",
    "##    Company Name: ABC Corporation\n",
    "\n",
    "##    Location: India\n",
    "\n",
    "##    Contact Detail: 999-999-9999\n",
    "\n",
    "## SOLUTUON:"
   ]
  },
  {
   "cell_type": "code",
   "execution_count": null,
   "id": "58efbc89-bd6b-4457-98df-ae38933567ef",
   "metadata": {},
   "outputs": [],
   "source": [
    "from flask import Flask\n",
    "\n",
    "app = Flask(_name_)\n",
    "\n",
    "@app.route(\"/welcome\")\n",
    "def welcome():\n",
    "    return \"Welocme to the ABC Corporation\"\n",
    "\n",
    "@app.route(\"/\")\n",
    "def company_details():\n",
    "    return \"\"\"\n",
    "     Company Name: ABC Corporation\n",
    "\n",
    "     Location: India\n",
    "\n",
    "     \n",
    "     Contact Detail: 999-999-9999 \n",
    "\n",
    "    \"\"\"        \n",
    "       \n",
    "if _name==\"__main_\":\n",
    "    app.run(host=\"0.0.0.0\")"
   ]
  },
  {
   "cell_type": "markdown",
   "id": "e0c97e98-900f-406e-acfa-9f1fd9b2689f",
   "metadata": {},
   "source": [
    "![](welcome.jpg)"
   ]
  },
  {
   "cell_type": "markdown",
   "id": "30bf937f-f4bf-4336-bf54-4c53b1b12eab",
   "metadata": {},
   "source": [
    "![](cd.jpg)"
   ]
  },
  {
   "cell_type": "markdown",
   "id": "aed12f82-854e-4082-aab9-1a63cb4eba72",
   "metadata": {},
   "source": [
    "## Q5. What function is used in Flask for URL Building? Write a Python code to demonstrate the working of the url_for() function.\n",
    "## Solution:"
   ]
  },
  {
   "cell_type": "code",
   "execution_count": null,
   "id": "da7ba6e8-d84f-465d-9110-3af03bf526cf",
   "metadata": {},
   "outputs": [],
   "source": [
    "## url_for () function is used for url building. it generates a url for the specified endpoint, taking into account the url rules defined in your appli"
   ]
  },
  {
   "cell_type": "code",
   "execution_count": null,
   "id": "dd7f3d2c-dfa2-49d5-b06e-dd142ca1f096",
   "metadata": {},
   "outputs": [],
   "source": [
    "app = Flask(_name_)\n",
    "\n",
    "@app.route(\"/\")\n",
    "def hello():\n",
    "    return \"Hello Sudhanshu sir, my name is AKSHAY and I am for  data science masters 2.0 batch.\"\n",
    "\n",
    "@app.route(\"/user/<username>\")\n",
    "def profile(username):\n",
    "    return \"my full name: {}\".format(username)       \n",
    "       \n",
    "if _name==\"__main_\":\n",
    "    app.run(host=\"0.0.0.0\")\n",
    "    print(url_for('hello'))\n",
    "    print(url_for('profile', username = 'Akshay chhabra'))"
   ]
  },
  {
   "cell_type": "markdown",
   "id": "7325e2fe-2ff6-46fd-a066-46eb16f77029",
   "metadata": {},
   "source": [
    "![](sec.jpg)"
   ]
  },
  {
   "cell_type": "markdown",
   "id": "ce3c99dc-2d0f-4657-8a6e-d38e5cdc9931",
   "metadata": {},
   "source": [
    "![](last.jpg)"
   ]
  },
  {
   "cell_type": "code",
   "execution_count": null,
   "id": "16413d2b-d09b-4e9b-b82b-5a4ef0b33958",
   "metadata": {},
   "outputs": [],
   "source": []
  }
 ],
 "metadata": {
  "kernelspec": {
   "display_name": "Python 3 (ipykernel)",
   "language": "python",
   "name": "python3"
  },
  "language_info": {
   "codemirror_mode": {
    "name": "ipython",
    "version": 3
   },
   "file_extension": ".py",
   "mimetype": "text/x-python",
   "name": "python",
   "nbconvert_exporter": "python",
   "pygments_lexer": "ipython3",
   "version": "3.10.4"
  }
 },
 "nbformat": 4,
 "nbformat_minor": 5
}
